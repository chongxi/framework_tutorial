{
 "cells": [
  {
   "cell_type": "code",
   "execution_count": 2,
   "metadata": {},
   "outputs": [],
   "source": [
    "import numpy as np\n",
    "import gym\n",
    "import gym_game\n",
    "import random"
   ]
  },
  {
   "cell_type": "code",
   "execution_count": 3,
   "metadata": {},
   "outputs": [
    {
     "name": "stdout",
     "output_type": "stream",
     "text": [
      "pygame 2.1.0 (SDL 2.0.16, Python 3.8.5)\n",
      "Hello from the pygame community. https://www.pygame.org/contribute.html\n"
     ]
    }
   ],
   "source": [
    "env = gym.make(\"Pygame-v0\", )"
   ]
  },
  {
   "cell_type": "markdown",
   "metadata": {},
   "source": [
    "### Q-Learning"
   ]
  },
  {
   "cell_type": "code",
   "execution_count": 4,
   "metadata": {},
   "outputs": [],
   "source": [
    "n_trials = 9999\n",
    "trial_length = 1000\n",
    "epsilon = 1\n",
    "epsilon_decay = 0.999\n",
    "learning_rate = 0.1\n",
    "gamma = 0.6\n",
    "num_box = tuple((env.observation_space.high + np.ones(env.observation_space.shape)).astype(int))\n",
    "q_table = np.zeros(num_box + (env.action_space.n,))\n"
   ]
  },
  {
   "cell_type": "code",
   "execution_count": 5,
   "metadata": {},
   "outputs": [],
   "source": [
    "def simulate():\n",
    "    global epsilon, epsilon_decay\n",
    "    for episode in range(n_trials):\n",
    "\n",
    "        # Init environment\n",
    "        state = env.reset()\n",
    "        total_reward = 0\n",
    "\n",
    "        # AI tries up to MAX_TRY times\n",
    "        for t in range(trial_length):\n",
    "\n",
    "            # In the beginning, do random action to learn\n",
    "            if random.uniform(0, 1) < epsilon:\n",
    "                action = env.action_space.sample()\n",
    "            else:\n",
    "                action = np.argmax(q_table[state])\n",
    "\n",
    "            # Do action and get result\n",
    "            next_state, reward, done, _ = env.step(action)\n",
    "            total_reward += reward\n",
    "\n",
    "            # Get correspond q value from state, action pair\n",
    "            q_value = q_table[state][action]\n",
    "            best_q = np.max(q_table[next_state])\n",
    "\n",
    "            # Q(state, action) <- (1 - a)Q(state, action) + a(reward + rmaxQ(next state, all actions))\n",
    "            q_table[state][action] = (1 - learning_rate) * q_value + learning_rate * (reward + gamma * best_q)\n",
    "\n",
    "            # Set up for the next iteration\n",
    "            state = next_state\n",
    "\n",
    "            # Draw games\n",
    "            # env.render()\n",
    "\n",
    "            # When episode is done, print reward\n",
    "            if done or t >= trial_length - 1:\n",
    "                print(\"Episode %d finished after %i time steps with total reward = %f., epsilon = %f\" % (episode, t, total_reward, epsilon))\n",
    "                break\n",
    "\n",
    "        # exploring rate decay\n",
    "        if epsilon >= 0.005:\n",
    "            epsilon *= epsilon_decay"
   ]
  },
  {
   "cell_type": "code",
   "execution_count": 6,
   "metadata": {},
   "outputs": [],
   "source": [
    "# simulate()"
   ]
  },
  {
   "cell_type": "markdown",
   "metadata": {},
   "source": [
    "## A2C"
   ]
  },
  {
   "cell_type": "code",
   "execution_count": 7,
   "metadata": {},
   "outputs": [],
   "source": [
    "from model import A2C as Agent\n",
    "from model import compute_a2c_loss, compute_returns\n",
    "import torch\n",
    "import torch.nn as nn"
   ]
  },
  {
   "cell_type": "code",
   "execution_count": 8,
   "metadata": {},
   "outputs": [],
   "source": [
    "learning_rate = 5e-4\n",
    "dim_hidden = 128\n",
    "# init agent / optimizer\n",
    "agent = Agent(env.observation_space.shape[0], dim_hidden, env.action_space.n)\n",
    "optimizer = torch.optim.Adam(agent.parameters(), lr=learning_rate)"
   ]
  },
  {
   "cell_type": "code",
   "execution_count": 12,
   "metadata": {},
   "outputs": [],
   "source": [
    "def simulate():\n",
    "    global epsilon, epsilon_decay\n",
    "    for episode in range(n_trials):\n",
    "\n",
    "        # Init environment\n",
    "        state = env.reset()\n",
    "        probs, rewards, values = [], [], []\n",
    "\n",
    "        # AI tries up to MAX_TRY times\n",
    "        for t in range(trial_length):\n",
    "\n",
    "            # A2C agent picks action\n",
    "            a_dist, value = agent(torch.tensor(state).float())  ### .view(1,1,-1) for LSTM\n",
    "            action, action_prob = agent.pick_action(a_dist)\n",
    "\n",
    "            # Do action and get result\n",
    "            next_state, reward, done, _ = env.step(action)\n",
    "            reward += env.pygame.car.average_speed/env.pygame.car.time_spent * 10  ### encourage the car to go faster\n",
    "            probs.append(action_prob)\n",
    "            rewards.append(reward/200)\n",
    "            values.append(value)\n",
    "\n",
    "            # Set up for the next iteration, and remember last action\n",
    "            state = next_state\n",
    "\n",
    "            # Draw games\n",
    "            env.render()\n",
    "\n",
    "            # When episode is done, print reward\n",
    "            if done or t >= trial_length - 1:\n",
    "                print(\"Episode %d finished after %i time steps with total reward = %f.\" % (episode, t, sum(rewards)))\n",
    "                break\n",
    "\n",
    "        returns = compute_returns(rewards, gamma=0.1, normalize=True) + 0.01\n",
    "        loss_policy, loss_value = compute_a2c_loss(probs, values, returns)\n",
    "        loss = loss_policy + loss_value\n",
    "        print('loss = %f' % (loss.item()))\n",
    "        nn.utils.clip_grad_norm_(agent.parameters(), 0.5)\n",
    "        optimizer.zero_grad()\n",
    "        loss.backward()\n",
    "        optimizer.step()"
   ]
  },
  {
   "cell_type": "code",
   "execution_count": 13,
   "metadata": {},
   "outputs": [
    {
     "name": "stdout",
     "output_type": "stream",
     "text": [
      "Episode 0 finished after 769 time steps with total reward = -30.005407.\n",
      "loss = -4.153461\n",
      "Episode 1 finished after 678 time steps with total reward = -29.206710.\n",
      "loss = 30.597309\n",
      "Episode 2 finished after 997 time steps with total reward = 123.867324.\n",
      "loss = 34.681225\n",
      "Episode 3 finished after 999 time steps with total reward = 1.590694.\n",
      "loss = 222.150101\n",
      "Episode 4 finished after 44 time steps with total reward = -47.629128.\n",
      "loss = -22.393373\n",
      "Episode 5 finished after 695 time steps with total reward = -33.581553.\n",
      "loss = 23.598576\n",
      "Episode 6 finished after 407 time steps with total reward = -39.286484.\n",
      "loss = 1.499432\n",
      "Episode 7 finished after 762 time steps with total reward = -33.548111.\n",
      "loss = 78.042816\n",
      "Episode 8 finished after 758 time steps with total reward = -33.900783.\n",
      "loss = 60.079620\n",
      "Episode 9 finished after 999 time steps with total reward = 1.402344.\n",
      "loss = 253.494324\n",
      "Episode 10 finished after 818 time steps with total reward = -33.608066.\n",
      "loss = 39.672077\n"
     ]
    },
    {
     "ename": "KeyboardInterrupt",
     "evalue": "",
     "output_type": "error",
     "traceback": [
      "\u001b[1;31m---------------------------------------------------------------------------\u001b[0m",
      "\u001b[1;31mKeyboardInterrupt\u001b[0m                         Traceback (most recent call last)",
      "\u001b[1;32m~\\AppData\\Local\\Temp/ipykernel_5408/1622018072.py\u001b[0m in \u001b[0;36m<module>\u001b[1;34m\u001b[0m\n\u001b[1;32m----> 1\u001b[1;33m \u001b[0msimulate\u001b[0m\u001b[1;33m(\u001b[0m\u001b[1;33m)\u001b[0m\u001b[1;33m\u001b[0m\u001b[1;33m\u001b[0m\u001b[0m\n\u001b[0m",
      "\u001b[1;32m~\\AppData\\Local\\Temp/ipykernel_5408/2993973878.py\u001b[0m in \u001b[0;36msimulate\u001b[1;34m()\u001b[0m\n\u001b[0;32m     25\u001b[0m \u001b[1;33m\u001b[0m\u001b[0m\n\u001b[0;32m     26\u001b[0m             \u001b[1;31m# Draw games\u001b[0m\u001b[1;33m\u001b[0m\u001b[1;33m\u001b[0m\u001b[1;33m\u001b[0m\u001b[0m\n\u001b[1;32m---> 27\u001b[1;33m             \u001b[0menv\u001b[0m\u001b[1;33m.\u001b[0m\u001b[0mrender\u001b[0m\u001b[1;33m(\u001b[0m\u001b[1;33m)\u001b[0m\u001b[1;33m\u001b[0m\u001b[1;33m\u001b[0m\u001b[0m\n\u001b[0m\u001b[0;32m     28\u001b[0m \u001b[1;33m\u001b[0m\u001b[0m\n\u001b[0;32m     29\u001b[0m             \u001b[1;31m# When episode is done, print reward\u001b[0m\u001b[1;33m\u001b[0m\u001b[1;33m\u001b[0m\u001b[1;33m\u001b[0m\u001b[0m\n",
      "\u001b[1;32m~\\AppData\\Roaming\\Python\\Python38\\site-packages\\gym\\core.py\u001b[0m in \u001b[0;36mrender\u001b[1;34m(self, mode, **kwargs)\u001b[0m\n\u001b[0;32m    238\u001b[0m \u001b[1;33m\u001b[0m\u001b[0m\n\u001b[0;32m    239\u001b[0m     \u001b[1;32mdef\u001b[0m \u001b[0mrender\u001b[0m\u001b[1;33m(\u001b[0m\u001b[0mself\u001b[0m\u001b[1;33m,\u001b[0m \u001b[0mmode\u001b[0m\u001b[1;33m=\u001b[0m\u001b[1;34m'human'\u001b[0m\u001b[1;33m,\u001b[0m \u001b[1;33m**\u001b[0m\u001b[0mkwargs\u001b[0m\u001b[1;33m)\u001b[0m\u001b[1;33m:\u001b[0m\u001b[1;33m\u001b[0m\u001b[1;33m\u001b[0m\u001b[0m\n\u001b[1;32m--> 240\u001b[1;33m         \u001b[1;32mreturn\u001b[0m \u001b[0mself\u001b[0m\u001b[1;33m.\u001b[0m\u001b[0menv\u001b[0m\u001b[1;33m.\u001b[0m\u001b[0mrender\u001b[0m\u001b[1;33m(\u001b[0m\u001b[0mmode\u001b[0m\u001b[1;33m,\u001b[0m \u001b[1;33m**\u001b[0m\u001b[0mkwargs\u001b[0m\u001b[1;33m)\u001b[0m\u001b[1;33m\u001b[0m\u001b[1;33m\u001b[0m\u001b[0m\n\u001b[0m\u001b[0;32m    241\u001b[0m \u001b[1;33m\u001b[0m\u001b[0m\n\u001b[0;32m    242\u001b[0m     \u001b[1;32mdef\u001b[0m \u001b[0mclose\u001b[0m\u001b[1;33m(\u001b[0m\u001b[0mself\u001b[0m\u001b[1;33m)\u001b[0m\u001b[1;33m:\u001b[0m\u001b[1;33m\u001b[0m\u001b[1;33m\u001b[0m\u001b[0m\n",
      "\u001b[1;32md:\\Study\\DeepRL\\memory task RL\\gym_game\\envs\\custom_env.py\u001b[0m in \u001b[0;36mrender\u001b[1;34m(self, mode, close)\u001b[0m\n\u001b[0;32m     25\u001b[0m \u001b[1;33m\u001b[0m\u001b[0m\n\u001b[0;32m     26\u001b[0m     \u001b[1;32mdef\u001b[0m \u001b[0mrender\u001b[0m\u001b[1;33m(\u001b[0m\u001b[0mself\u001b[0m\u001b[1;33m,\u001b[0m \u001b[0mmode\u001b[0m\u001b[1;33m=\u001b[0m\u001b[1;34m\"human\"\u001b[0m\u001b[1;33m,\u001b[0m \u001b[0mclose\u001b[0m\u001b[1;33m=\u001b[0m\u001b[1;32mFalse\u001b[0m\u001b[1;33m)\u001b[0m\u001b[1;33m:\u001b[0m\u001b[1;33m\u001b[0m\u001b[1;33m\u001b[0m\u001b[0m\n\u001b[1;32m---> 27\u001b[1;33m         \u001b[0mself\u001b[0m\u001b[1;33m.\u001b[0m\u001b[0mpygame\u001b[0m\u001b[1;33m.\u001b[0m\u001b[0mview\u001b[0m\u001b[1;33m(\u001b[0m\u001b[1;33m)\u001b[0m\u001b[1;33m\u001b[0m\u001b[1;33m\u001b[0m\u001b[0m\n\u001b[0m",
      "\u001b[1;32md:\\Study\\DeepRL\\memory task RL\\gym_game\\envs\\pygame_2d.py\u001b[0m in \u001b[0;36mview\u001b[1;34m(self)\u001b[0m\n\u001b[0;32m    205\u001b[0m \u001b[1;33m\u001b[0m\u001b[0m\n\u001b[0;32m    206\u001b[0m \u001b[1;33m\u001b[0m\u001b[0m\n\u001b[1;32m--> 207\u001b[1;33m         \u001b[1;32mif\u001b[0m \u001b[0mself\u001b[0m\u001b[1;33m.\u001b[0m\u001b[0mmode\u001b[0m \u001b[1;33m==\u001b[0m \u001b[1;36m1\u001b[0m\u001b[1;33m:\u001b[0m\u001b[1;33m\u001b[0m\u001b[1;33m\u001b[0m\u001b[0m\n\u001b[0m\u001b[0;32m    208\u001b[0m             \u001b[0mself\u001b[0m\u001b[1;33m.\u001b[0m\u001b[0mscreen\u001b[0m\u001b[1;33m.\u001b[0m\u001b[0mfill\u001b[0m\u001b[1;33m(\u001b[0m\u001b[1;33m(\u001b[0m\u001b[1;36m0\u001b[0m\u001b[1;33m,\u001b[0m \u001b[1;36m0\u001b[0m\u001b[1;33m,\u001b[0m \u001b[1;36m0\u001b[0m\u001b[1;33m)\u001b[0m\u001b[1;33m)\u001b[0m\u001b[1;33m\u001b[0m\u001b[1;33m\u001b[0m\u001b[0m\n\u001b[0;32m    209\u001b[0m \u001b[1;33m\u001b[0m\u001b[0m\n",
      "\u001b[1;31mKeyboardInterrupt\u001b[0m: "
     ]
    }
   ],
   "source": [
    "simulate()"
   ]
  }
 ],
 "metadata": {
  "interpreter": {
   "hash": "cef9e06bb236b2a8629b07e87a04b187b952a0f661eff5533360a155783f0c33"
  },
  "kernelspec": {
   "display_name": "Python 3.8.5 64-bit ('base': conda)",
   "language": "python",
   "name": "python3"
  },
  "language_info": {
   "codemirror_mode": {
    "name": "ipython",
    "version": 3
   },
   "file_extension": ".py",
   "mimetype": "text/x-python",
   "name": "python",
   "nbconvert_exporter": "python",
   "pygments_lexer": "ipython3",
   "version": "3.8.5"
  },
  "orig_nbformat": 4
 },
 "nbformat": 4,
 "nbformat_minor": 2
}
