{
 "cells": [
  {
   "cell_type": "code",
   "execution_count": 1,
   "metadata": {},
   "outputs": [],
   "source": [
    "import numpy as np\n",
    "import gym\n",
    "import gym_game\n",
    "import random"
   ]
  },
  {
   "cell_type": "code",
   "execution_count": 2,
   "metadata": {},
   "outputs": [
    {
     "name": "stdout",
     "output_type": "stream",
     "text": [
      "pygame 2.1.0 (SDL 2.0.16, Python 3.8.5)\n",
      "Hello from the pygame community. https://www.pygame.org/contribute.html\n"
     ]
    }
   ],
   "source": [
    "env = gym.make(\"MemTask-v0\")"
   ]
  },
  {
   "cell_type": "markdown",
   "metadata": {},
   "source": [
    "## A2C with DND"
   ]
  },
  {
   "cell_type": "code",
   "execution_count": 3,
   "metadata": {},
   "outputs": [],
   "source": [
    "from model import DNDLSTM as Agent\n",
    "from model import compute_a2c_loss, compute_returns\n",
    "import torch\n",
    "import torch.nn as nn"
   ]
  },
  {
   "cell_type": "code",
   "execution_count": 4,
   "metadata": {},
   "outputs": [],
   "source": [
    "n_trials = 9999\n",
    "trial_length = 1000\n",
    "learning_rate = 5e-4\n",
    "dim_hidden = 1280\n",
    "# init agent / optimizer\n",
    "agent = Agent(env.observation_space.shape[0], dim_hidden, env.action_space.n, 5)\n",
    "optimizer = torch.optim.Adam(agent.parameters(), lr=learning_rate)"
   ]
  },
  {
   "cell_type": "code",
   "execution_count": 5,
   "metadata": {},
   "outputs": [
    {
     "data": {
      "text/plain": [
       "4500"
      ]
     },
     "execution_count": 5,
     "metadata": {},
     "output_type": "execute_result"
    }
   ],
   "source": [
    "env.observation_space.shape[0]"
   ]
  },
  {
   "cell_type": "code",
   "execution_count": 6,
   "metadata": {},
   "outputs": [
    {
     "data": {
      "text/plain": [
       "4"
      ]
     },
     "execution_count": 6,
     "metadata": {},
     "output_type": "execute_result"
    }
   ],
   "source": [
    "env.action_space.n"
   ]
  },
  {
   "cell_type": "code",
   "execution_count": 9,
   "metadata": {},
   "outputs": [],
   "source": [
    "def simulate():\n",
    "    global epsilon, epsilon_decay\n",
    "    for episode in range(n_trials):\n",
    "\n",
    "        # Init environment\n",
    "        state = env.reset()\n",
    "        probs, rewards, values = [], [], []\n",
    "        h_t, c_t = agent.get_init_states()\n",
    "\n",
    "        # AI tries up to MAX_TRY times\n",
    "        for t in range(trial_length):\n",
    "            # only save memory at the last time point\n",
    "            agent.turn_off_encoding()\n",
    "            if t == trial_length-1:\n",
    "                agent.turn_on_encoding()\n",
    "\n",
    "            # A2C agent picks action\n",
    "            output_t, _ = agent(torch.tensor(state).float().view(1, 1, -1), h_t, c_t) ### .view(1,1,-1) for LSTM input with (seq_len, batch, input_size)\n",
    "            action, action_prob, value, h_t, c_t = output_t\n",
    "\n",
    "            # Do action and get result\n",
    "            next_state, reward, done, _ = env.step(action)\n",
    "            probs.append(action_prob)\n",
    "            rewards.append(reward)\n",
    "            values.append(value)\n",
    "\n",
    "            # Set up for the next iteration, and remember last action\n",
    "            state = next_state\n",
    "\n",
    "            # Draw games\n",
    "            # env.render()\n",
    "\n",
    "            # When episode is done, print reward\n",
    "            if done or t >= trial_length - 1:\n",
    "                print(\"Episode %d finished after %i time steps with total reward = %f.\" % (episode, t, sum(rewards)))\n",
    "                break\n",
    "\n",
    "        returns = compute_returns(rewards, gamma=0.0, normalize=False) + 0.001\n",
    "        loss_policy, loss_value = compute_a2c_loss(probs, values, returns)\n",
    "        loss = loss_policy + loss_value\n",
    "        print('loss = %f' % (loss.item()))\n",
    "        nn.utils.clip_grad_norm_(agent.parameters(), 0.5)\n",
    "        optimizer.zero_grad()\n",
    "        loss.backward()\n",
    "        optimizer.step()"
   ]
  },
  {
   "cell_type": "code",
   "execution_count": 10,
   "metadata": {},
   "outputs": [
    {
     "name": "stdout",
     "output_type": "stream",
     "text": [
      "Episode 0 finished after 87 time steps with total reward = -110.000000.\n",
      "loss = 268.365479\n",
      "Episode 1 finished after 115 time steps with total reward = -90.000000.\n",
      "loss = 300.667999\n",
      "Episode 2 finished after 125 time steps with total reward = -90.000000.\n",
      "loss = -224.907257\n",
      "Episode 3 finished after 129 time steps with total reward = 80.000000.\n",
      "loss = 414.764465\n",
      "Episode 4 finished after 126 time steps with total reward = -70.000000.\n",
      "loss = -166.942932\n",
      "Episode 5 finished after 125 time steps with total reward = 50.000000.\n",
      "loss = 322.983337\n",
      "Episode 6 finished after 139 time steps with total reward = 60.000000.\n",
      "loss = 348.609802\n",
      "Episode 7 finished after 139 time steps with total reward = -60.000000.\n",
      "loss = -137.808212\n",
      "Episode 8 finished after 137 time steps with total reward = -70.000000.\n",
      "loss = -156.426010\n"
     ]
    }
   ],
   "source": [
    "simulate()"
   ]
  },
  {
   "cell_type": "code",
   "execution_count": null,
   "metadata": {},
   "outputs": [],
   "source": []
  }
 ],
 "metadata": {
  "interpreter": {
   "hash": "cef9e06bb236b2a8629b07e87a04b187b952a0f661eff5533360a155783f0c33"
  },
  "kernelspec": {
   "display_name": "Python 3.8.5 64-bit ('base': conda)",
   "language": "python",
   "name": "python3"
  },
  "language_info": {
   "codemirror_mode": {
    "name": "ipython",
    "version": 3
   },
   "file_extension": ".py",
   "mimetype": "text/x-python",
   "name": "python",
   "nbconvert_exporter": "python",
   "pygments_lexer": "ipython3",
   "version": "3.8.5"
  },
  "orig_nbformat": 4
 },
 "nbformat": 4,
 "nbformat_minor": 2
}
